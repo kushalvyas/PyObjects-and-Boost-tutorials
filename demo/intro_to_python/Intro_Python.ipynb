{
 "metadata": {
  "name": "",
  "signature": "sha256:5a514f5bdfeb36582468e01c0273f6ed849838f11150227c20fd2e1b4876e635"
 },
 "nbformat": 3,
 "nbformat_minor": 0,
 "worksheets": [
  {
   "cells": [
    {
     "cell_type": "markdown",
     "metadata": {},
     "source": [
      "# Basic Python Stuff\n",
      "----------------------------------\n",
      "\n",
      "1. Vey syntactically easy language\n",
      "2. Highly extensible\n",
      "3. Simple to type and implement\n",
      "4. Interpreted\n",
      "5. No datatypes as such (although they exist!)\n"
     ]
    },
    {
     "cell_type": "markdown",
     "metadata": {},
     "source": [
      "# Comments in Python"
     ]
    },
    {
     "cell_type": "code",
     "collapsed": false,
     "input": [
      "# this is a comment. This will not be processed by the interpretor"
     ],
     "language": "python",
     "metadata": {},
     "outputs": [],
     "prompt_number": 1
    },
    {
     "cell_type": "markdown",
     "metadata": {},
     "source": [
      "# Variables in Python"
     ]
    },
    {
     "cell_type": "code",
     "collapsed": false,
     "input": [
      "a = 1"
     ],
     "language": "python",
     "metadata": {},
     "outputs": [],
     "prompt_number": 2
    },
    {
     "cell_type": "code",
     "collapsed": false,
     "input": [
      "b = 10.005"
     ],
     "language": "python",
     "metadata": {},
     "outputs": [],
     "prompt_number": 3
    },
    {
     "cell_type": "code",
     "collapsed": false,
     "input": [
      "c = \"this is a string\""
     ],
     "language": "python",
     "metadata": {},
     "outputs": [],
     "prompt_number": 4
    },
    {
     "cell_type": "markdown",
     "metadata": {},
     "source": [
      "Let's print these variables"
     ]
    },
    {
     "cell_type": "code",
     "collapsed": false,
     "input": [
      "print \"Value of a is : \", a\n",
      "print \"Value of b is : \", b\n",
      "print \"Value of c is : \", c\n"
     ],
     "language": "python",
     "metadata": {},
     "outputs": [
      {
       "output_type": "stream",
       "stream": "stdout",
       "text": [
        "Value of a is :  1\n",
        "Value of b is :  10.005\n",
        "Value of c is :  this is a string\n"
       ]
      }
     ],
     "prompt_number": 5
    },
    {
     "cell_type": "markdown",
     "metadata": {},
     "source": [
      "Or you can print them this way"
     ]
    },
    {
     "cell_type": "code",
     "collapsed": false,
     "input": [
      "print \"a : {0} \\nb : {1} \\nc : {2}\".format(a, b, c)\n"
     ],
     "language": "python",
     "metadata": {},
     "outputs": [
      {
       "output_type": "stream",
       "stream": "stdout",
       "text": [
        "a : 1 \n",
        "b : 10.005 \n",
        "c : this is a string\n"
       ]
      }
     ],
     "prompt_number": 7
    },
    {
     "cell_type": "markdown",
     "metadata": {},
     "source": [
      "# lists in python"
     ]
    },
    {
     "cell_type": "code",
     "collapsed": false,
     "input": [
      "my_list = [] # empty list (closest interpretation of array)\n"
     ],
     "language": "python",
     "metadata": {},
     "outputs": [],
     "prompt_number": 8
    },
    {
     "cell_type": "code",
     "collapsed": false,
     "input": [
      "print my_list"
     ],
     "language": "python",
     "metadata": {},
     "outputs": [
      {
       "output_type": "stream",
       "stream": "stdout",
       "text": [
        "[]\n"
       ]
      }
     ],
     "prompt_number": 9
    },
    {
     "cell_type": "code",
     "collapsed": false,
     "input": [
      "my_list.append(1) # appends 1 to the list\n",
      "print my_list"
     ],
     "language": "python",
     "metadata": {},
     "outputs": [
      {
       "output_type": "stream",
       "stream": "stdout",
       "text": [
        "[1]\n"
       ]
      }
     ],
     "prompt_number": 10
    },
    {
     "cell_type": "markdown",
     "metadata": {},
     "source": [
      "# for loops in python"
     ]
    },
    {
     "cell_type": "code",
     "collapsed": false,
     "input": [
      "my_list = [] #re-initialize the list"
     ],
     "language": "python",
     "metadata": {},
     "outputs": [],
     "prompt_number": 11
    },
    {
     "cell_type": "code",
     "collapsed": false,
     "input": [
      "for i in range(0, 10, 1): \n",
      "    print \"Appending i-value = \", i, \" to the list\"\n",
      "    my_list.append(i)"
     ],
     "language": "python",
     "metadata": {},
     "outputs": [
      {
       "output_type": "stream",
       "stream": "stdout",
       "text": [
        "Appending i-value =  0  to the list\n",
        "Appending i-value =  1  to the list\n",
        "Appending i-value =  2  to the list\n",
        "Appending i-value =  3  to the list\n",
        "Appending i-value =  4  to the list\n",
        "Appending i-value =  5  to the list\n",
        "Appending i-value =  6  to the list\n",
        "Appending i-value =  7  to the list\n",
        "Appending i-value =  8  to the list\n",
        "Appending i-value =  9  to the list\n"
       ]
      }
     ],
     "prompt_number": 15
    },
    {
     "cell_type": "code",
     "collapsed": false,
     "input": [
      "print my_list"
     ],
     "language": "python",
     "metadata": {},
     "outputs": [
      {
       "output_type": "stream",
       "stream": "stdout",
       "text": [
        "[0, 1, 2, 3, 4, 5, 6, 7, 8, 9]\n"
       ]
      }
     ],
     "prompt_number": 16
    },
    {
     "cell_type": "markdown",
     "metadata": {},
     "source": [
      "# Define functions"
     ]
    },
    {
     "cell_type": "code",
     "collapsed": false,
     "input": [
      "# defining a function\n",
      "def myfunction(input_arg1, input_arg2):\n",
      "\t# lets do dot product\n",
      "\tif len(input_arg1) != len(input_arg2):\n",
      "\t\tprint \"DOT product is not possible on inputs of unequal lengths\"\n",
      "\t\treturn None\n",
      "\n",
      "\tnewlist = []\n",
      "\tfor i in range(len(input_arg1)):\n",
      "\t\tnewlist.append(input_arg1[i]*input_arg2[i])\n",
      "\n",
      "\treturn newlist"
     ],
     "language": "python",
     "metadata": {},
     "outputs": [],
     "prompt_number": 17
    },
    {
     "cell_type": "markdown",
     "metadata": {},
     "source": [
      "Some tips w.r.t above snippet:\n",
      "1. len : this function returns length of any object passed to it\n",
      "2. return None ( similar like return NULL)\n",
      "3. e.g. dot product\n",
      "        [1,2,3,4] <DOT> [1,0,1,0] => [1.1 , 2.0, 3.1, 4.0] ==> [1,0,3,0]"
     ]
    },
    {
     "cell_type": "code",
     "collapsed": false,
     "input": [
      "#calling the function\n",
      "# one way to define lists\n",
      "inp_list1 = [1, 2, 3]\n",
      "# another way to define list\n",
      "inp_list2 = []\n",
      "inp_list2.append(-1)\n",
      "inp_list2.append(0)\n",
      "inp_list2.append(1)\n",
      "\n",
      "dot1 = myfunction(inp_list1, inp_list2)\n",
      "print \"Dot product1 is \" , dot1"
     ],
     "language": "python",
     "metadata": {},
     "outputs": [
      {
       "output_type": "stream",
       "stream": "stdout",
       "text": [
        "Dot product1 is  [-1, 0, 3]\n"
       ]
      }
     ],
     "prompt_number": 20
    },
    {
     "cell_type": "markdown",
     "metadata": {},
     "source": [
      "## A little advanced function"
     ]
    },
    {
     "cell_type": "code",
     "collapsed": false,
     "input": [
      "def myfunction_advanced(ip1, ip2):\n",
      "\tassert len(ip1) == len(ip2) , \"DOT product is not possible on inputs of unequal lengths\"\n",
      "\treturn [a*b for(a,b) in zip(ip1, ip2)]\n",
      "\n"
     ],
     "language": "python",
     "metadata": {},
     "outputs": [],
     "prompt_number": 18
    },
    {
     "cell_type": "code",
     "collapsed": false,
     "input": [
      "# little advanced and cool initialization\n",
      "inp_list1 = [ i for i in range(1,4)]\n",
      "inp_list2 = [i for i in range(-1,2)]\n",
      "dot2 = myfunction_advanced(inp_list1, inp_list2)\n",
      "print \"Dot product2 is \" , dot2\n"
     ],
     "language": "python",
     "metadata": {},
     "outputs": [
      {
       "output_type": "stream",
       "stream": "stdout",
       "text": [
        "Dot product2 is  [-1, 0, 3]\n"
       ]
      }
     ],
     "prompt_number": 23
    },
    {
     "cell_type": "markdown",
     "metadata": {},
     "source": []
    },
    {
     "cell_type": "markdown",
     "metadata": {},
     "source": [
      "# Classes in Python"
     ]
    },
    {
     "cell_type": "code",
     "collapsed": false,
     "input": [
      "\n",
      "# define a class\n",
      "class MyClass:\n",
      "\tdef __init__(self, args=None):\n",
      "\t\tprint \"This is the constructor\"\n",
      "\t\tprint \"Arguments are None by default, unless passed\"\n",
      "\n",
      "\tdef method1(self, args=None):\n",
      "\t\tprint \"Method1 is called\"\n",
      "\t\tif args is None:\n",
      "\t\t\tprint \"Arguments are None by default, unless passed\"\n",
      "\t\telse:\n",
      "\t\t\tprint \"Arguments are :\"\n",
      "\n",
      "\tdef method2(self, arg1, arg2, arg3, arg4):\n",
      "\t\tprint \"Method2 is called\"\n",
      "\t\tif any([arg1, arg2, arg3, arg4]) is None:\n",
      "\t\t\tprint \"Arguments are None by default, unless passed\"\n",
      "\t\telse:\n",
      "\t\t\tprint \"Arguments are :\"\n",
      "\t\t\tprint arg1\n",
      "\t\t\tprint arg2\n",
      "\t\t\tprint arg3\n",
      "\t\t\tprint arg4\n"
     ],
     "language": "python",
     "metadata": {},
     "outputs": [],
     "prompt_number": 24
    },
    {
     "cell_type": "code",
     "collapsed": false,
     "input": [
      "# declaring object of class\n",
      "my_class_object = MyClass()\n",
      "my_class_object.method1()\n"
     ],
     "language": "python",
     "metadata": {},
     "outputs": [
      {
       "output_type": "stream",
       "stream": "stdout",
       "text": [
        "This is the constructor\n",
        "Arguments are None by default, unless passed\n",
        "Method1 is called\n",
        "Arguments are None by default, unless passed\n"
       ]
      }
     ],
     "prompt_number": 25
    },
    {
     "cell_type": "code",
     "collapsed": false,
     "input": [
      "# lets define some stuff\n",
      "\n",
      "s1 = \"Yo. This is a string argument\"\n",
      "s2 = \"Another string argument\"\n",
      "a1 = 1\n",
      "a2 = 100.002"
     ],
     "language": "python",
     "metadata": {},
     "outputs": [],
     "prompt_number": 29
    },
    {
     "cell_type": "code",
     "collapsed": false,
     "input": [
      "# using arguments\n",
      "my_class_object.method1(args=s1)\n",
      "my_class_object.method2(s1,s2,a1,a2 )\n",
      "\n"
     ],
     "language": "python",
     "metadata": {},
     "outputs": [
      {
       "output_type": "stream",
       "stream": "stdout",
       "text": [
        "Method1 is called\n",
        "Arguments are :\n",
        "Method2 is called\n",
        "Arguments are :\n",
        "Yo. This is a string argument\n",
        "Another string argument\n",
        "1\n",
        "100.002\n"
       ]
      }
     ],
     "prompt_number": 30
    },
    {
     "cell_type": "markdown",
     "metadata": {},
     "source": [
      "## That's all folks! .. this much python knowledge is good enough for us to proceed. :) "
     ]
    }
   ],
   "metadata": {}
  }
 ]
}